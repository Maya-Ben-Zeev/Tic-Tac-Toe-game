{
 "cells": [
  {
   "cell_type": "code",
   "execution_count": 1,
   "id": "35d8e92d-eb9f-4fcf-beb5-0e043007b88c",
   "metadata": {},
   "outputs": [],
   "source": [
    "from IPython.display import clear_output\n",
    "\n",
    "def display_board(board):\n",
    "    clear_output()\n",
    "    print(board[7] + '|' + board[8] + '|' + board[9])\n",
    "    print(board[4] + '|' + board[5] + '|' + board[6])\n",
    "    print(board[1] + '|' + board[2] + '|' + board[3])"
   ]
  },
  {
   "cell_type": "code",
   "execution_count": 2,
   "id": "f7ec81ee-0149-4d5d-be77-2223deca29de",
   "metadata": {},
   "outputs": [],
   "source": [
    "def player_input():\n",
    "    marker = ''\n",
    "    # Player 1 choose X or O\n",
    "    while marker != 'X' and marker != 'O':\n",
    "        marker = input('Player 1, choose X or O: ').upper\n",
    "    # Set Player 1 to marker and Player 2 to the opposit marker\n",
    "    player1 = marker\n",
    "    if player1 == 'X':\n",
    "        player2 = 'O'\n",
    "    else:\n",
    "        player2 = 'X'\n",
    "\n",
    "    return (player1,player2)"
   ]
  },
  {
   "cell_type": "code",
   "execution_count": 3,
   "id": "e6ce2c91-0350-438a-a781-ba886f4f8f69",
   "metadata": {},
   "outputs": [],
   "source": [
    "def place_marker(board, position, marker):\n",
    "    board[position] = marker"
   ]
  },
  {
   "cell_type": "code",
   "execution_count": 4,
   "id": "c6e606c4-f570-46da-8983-f91231039998",
   "metadata": {},
   "outputs": [],
   "source": [
    "def winner(board, marker):\n",
    "    return ((board[7] == marker and board[8] == marker and board[9] == marker) or # first row\n",
    "    (board[4] == marker and board[5] == marker and board[6] == marker) or # second row\n",
    "    (board[1] == marker and board[2] == marker and board[3] == marker) or # third row\n",
    "    (board[7] == marker and board[4] == marker and board[1] == marker) or # first column\n",
    "    (board[8] == marker and board[5] == marker and board[2] == marker) or # second column\n",
    "    (board[9] == marker and board[6] == marker and board[3] == marker) or # third column\n",
    "    (board[7] == marker and board[5] == marker and board[3] == marker) or # diagonal\n",
    "    (board[9] == marker and board[5] == marker and board[1] == marker)) # diagonal"
   ]
  },
  {
   "cell_type": "code",
   "execution_count": 5,
   "id": "844e975c-c833-40b4-b034-b774d3824b9c",
   "metadata": {},
   "outputs": [],
   "source": [
    "import random\n",
    "\n",
    "def play_first():\n",
    "    if random.randint(0,1) == 0:\n",
    "        return 'player1'\n",
    "    else:\n",
    "        return 'player2'"
   ]
  },
  {
   "cell_type": "code",
   "execution_count": 6,
   "id": "acbc77db-c024-4d08-8fd3-8fb79d04b7d0",
   "metadata": {},
   "outputs": [],
   "source": [
    "def free_space(board, position):\n",
    "    return board[position] == ' '"
   ]
  },
  {
   "cell_type": "code",
   "execution_count": 7,
   "id": "92decd46-77e6-4249-9097-296c6bd235e0",
   "metadata": {},
   "outputs": [],
   "source": [
    "def full_board(board):\n",
    "    for i in range(1,10):\n",
    "        if free_space(board, i):\n",
    "            return False\n",
    "    return True"
   ]
  },
  {
   "cell_type": "code",
   "execution_count": 8,
   "id": "6f94e0a0-08bb-449f-a4e6-5c87e369f9b5",
   "metadata": {},
   "outputs": [],
   "source": [
    "def check_player_position(board):\n",
    "    position = 0\n",
    "    while position not in [1,2,3,4,5,6,7,8,9] or not free_space(board, position):\n",
    "        position = int(input('Choose a position: (1-9)'))\n",
    "    return position"
   ]
  },
  {
   "cell_type": "code",
   "execution_count": 9,
   "id": "eab0bad1-a4e4-40e6-b19a-8356ca17ea4f",
   "metadata": {},
   "outputs": [],
   "source": [
    "def play_again():\n",
    "    answer = ' '\n",
    "    while answer not in ['Yes', 'No']:\n",
    "        answer = input('Do you want to play again? Answer Yes or No: ')\n",
    "    if answer == 'Yes':\n",
    "        return True\n",
    "    else:\n",
    "        return False"
   ]
  },
  {
   "cell_type": "code",
   "execution_count": null,
   "id": "e01af1b1-e9e3-45aa-bb25-7ff12fec5b4b",
   "metadata": {},
   "outputs": [
    {
     "name": "stdout",
     "output_type": "stream",
     "text": [
      "Welcome to Tic Tac Toe!\n"
     ]
    }
   ],
   "source": [
    "while True:\n",
    "    print('Welcome to Tic Tac Toe!')\n",
    "    board = [' ']*10\n",
    "    position = 0\n",
    "    player1_marker, player2_marker = player_input()\n",
    "    turn = play_first()\n",
    "    print(turn + ' Will play first')\n",
    "    game_on = input('Are you ready to play? Enter Yes or No: ')\n",
    "    if game_on == 'Yes':\n",
    "        game_on = True\n",
    "    else:\n",
    "        game_on = False\n",
    "    \n",
    "    while game_on:\n",
    "        # Player1 turn\n",
    "        if turn == 'player1':\n",
    "            display_board(board)\n",
    "            position = check_player_position(board)\n",
    "            place_marker(board, position, player1_marker)\n",
    "            if winner(board, player1_marker):\n",
    "                display_board(board)\n",
    "                print('Congratulations! You won the game!')\n",
    "                game_on = False\n",
    "            elif full_board(board):\n",
    "                display_board(board)\n",
    "                print('No one won the game')\n",
    "                break\n",
    "            else:\n",
    "                turn = 'player2'\n",
    "                \n",
    "        # Player2 turn\n",
    "        else:\n",
    "            display_board(board)\n",
    "            position = check_player_position(board)\n",
    "            place_marker(board, position, player2_marker)\n",
    "            if winner(board, player2_marker):\n",
    "                display_board(board)\n",
    "                print('Congratulations! You won the game!')\n",
    "                game_on = False\n",
    "            elif full_board(board):\n",
    "                display_board(board)\n",
    "                print('No one won the game')\n",
    "                break\n",
    "            else:\n",
    "                turn = 'player1'\n",
    "        \n",
    "    if not play_again():\n",
    "        break"
   ]
  },
  {
   "cell_type": "code",
   "execution_count": null,
   "id": "130681f4-079d-40fb-ada1-252ed1026e62",
   "metadata": {},
   "outputs": [],
   "source": []
  }
 ],
 "metadata": {
  "kernelspec": {
   "display_name": "Python 3 (ipykernel)",
   "language": "python",
   "name": "python3"
  },
  "language_info": {
   "codemirror_mode": {
    "name": "ipython",
    "version": 3
   },
   "file_extension": ".py",
   "mimetype": "text/x-python",
   "name": "python",
   "nbconvert_exporter": "python",
   "pygments_lexer": "ipython3",
   "version": "3.11.7"
  }
 },
 "nbformat": 4,
 "nbformat_minor": 5
}
